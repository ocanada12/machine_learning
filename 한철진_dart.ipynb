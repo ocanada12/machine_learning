{
 "cells": [
  {
   "cell_type": "code",
   "execution_count": 106,
   "metadata": {},
   "outputs": [
    {
     "data": {
      "text/plain": [
       "'코스닥시장'"
      ]
     },
     "execution_count": 106,
     "metadata": {},
     "output_type": "execute_result"
    }
   ],
   "source": [
    "soup.find_all(\"tr\")[2].find_all(\"td\")[1].find(\"img\").get(\"title\")"
   ]
  },
  {
   "cell_type": "code",
   "execution_count": 276,
   "metadata": {},
   "outputs": [
    {
     "data": {
      "text/plain": [
       "<tr>\n",
       "<td class=\"cen_txt\">\n",
       "\t\t\t\t\t\t17:54\n",
       "\t\t\t\t\t</td>\n",
       "<td>\n",
       "<span class=\"nobr1\" style=\"max-width:135px;\">\n",
       "<img alt=\"코스닥시장\" src=\"/images/ico_kosdaq.gif\" title=\"코스닥시장\"/> \n",
       "\t\t\t\t\t\t\t<a href=\"/dsae001/selectPopup.ax?selectKey=00767460\" onclick=\"openCorpInfo('00767460'); return false;\" title=\"SKC코오롱PI 기업개황 새창\">\n",
       "\t\t\t\t\t\t\t\tSKC코오롱PI\n",
       "\t\t\t\t\t\t\t</a>\n",
       "</span>\n",
       "<span style=\"padding-left: 4px;\"><a href=\"http://www.skckolonpi.com\" target=\"new\">\n",
       "<img alt=\"기업 IR페이지 연결\" src=\"/images/sub/btn_ir.gif\" title=\"기업 IR페이지 연결\"/></a></span>\n",
       "</td>\n",
       "<td>\n",
       "<a href=\"/dsaf001/main.do?rcpNo=20170328900966\" id=\"r_20170328900966\" onclick=\"openReportViewer('20170328900966'); return false;\" title=\"대표이사변경 공시뷰어 새창\"><span title=\"본 보고서명으로 이미 제출된 보고서의 기재내용이 변경되어 제출된 것임\">[기재정정]</span>대표이사변경\n",
       "\t\t\t\t\t\t\t\n",
       "  \t\t\t\t\t\t\t\n",
       "\t\t\t\t\t\t</a>\n",
       "</td>\n",
       "<td title=\"SKC코오롱PI\"><div class=\"nobr\" style=\"width:95px\">SKC코오롱PI</div></td>\n",
       "<td class=\"cen_txt\">2017.03.28</td>\n",
       "<td class=\"cen_txt end\"> <img alt=\"본 공시사항은 한국거래소 코스닥시장본부 소관임\" hspace=\"1\" src=\"/images/sub/remark05.gif\" title=\"본 공시사항은 한국거래소 코스닥시장본부 소관임\"/></td>\n",
       "</tr>"
      ]
     },
     "execution_count": 276,
     "metadata": {},
     "output_type": "execute_result"
    }
   ],
   "source": [
    "soup.find_all(\"tr\")[34]"
   ]
  },
  {
   "cell_type": "code",
   "execution_count": 116,
   "metadata": {},
   "outputs": [],
   "source": [
    "temp = soup.find_all(\"tr\")[2].find(\"a\").get(\"href\")"
   ]
  },
  {
   "cell_type": "code",
   "execution_count": 387,
   "metadata": {},
   "outputs": [
    {
     "name": "stdout",
     "output_type": "stream",
     "text": [
      "http://dart.fss.or.kr/dsac001/mainAll.do?selectDate=2017.03.28&sort=&series=&mdayCnt=0&currentPage=9\n"
     ]
    }
   ],
   "source": [
    "date = \"2017.03.28\"\n",
    "url_part1 = \"\"\"http://dart.fss.or.kr/dsac001/mainAll.do?selectDate=\"\"\"\n",
    "url_part2 = \"\"\"&sort=&series=&mdayCnt=0&currentPage=9\"\"\"\n",
    "    \n",
    "url = url_part1 + date + url_part2\n",
    "print(url)"
   ]
  },
  {
   "cell_type": "code",
   "execution_count": 117,
   "metadata": {},
   "outputs": [
    {
     "data": {
      "text/plain": [
       "'00364403'"
      ]
     },
     "execution_count": 117,
     "metadata": {},
     "output_type": "execute_result"
    }
   ],
   "source": [
    "re.findall(r\"[0-9]{18}\",temp)[0]"
   ]
  },
  {
   "cell_type": "code",
   "execution_count": null,
   "metadata": {},
   "outputs": [],
   "source": [
    "# 2번째 회사 쏠리드에 대한 정보를 추출하세요\n"
   ]
  },
  {
   "cell_type": "code",
   "execution_count": 386,
   "metadata": {},
   "outputs": [
    {
     "data": {
      "text/plain": [
       "'18:35'"
      ]
     },
     "execution_count": 386,
     "metadata": {},
     "output_type": "execute_result"
    }
   ],
   "source": [
    "# 공시시간 \n",
    "soup.find_all(\"tr\")[3].find_all(\"td\", {\"class\":\"cen_txt\"})[0].text.strip()"
   ]
  },
  {
   "cell_type": "code",
   "execution_count": 427,
   "metadata": {},
   "outputs": [
    {
     "data": {
      "text/plain": [
       "'SKC코오롱PI'"
      ]
     },
     "execution_count": 427,
     "metadata": {},
     "output_type": "execute_result"
    }
   ],
   "source": []
  },
  {
   "cell_type": "code",
   "execution_count": 155,
   "metadata": {},
   "outputs": [
    {
     "data": {
      "text/plain": [
       "'코스닥시장'"
      ]
     },
     "execution_count": 155,
     "metadata": {},
     "output_type": "execute_result"
    }
   ],
   "source": [
    "# 회사가 속한 시장의 종류 :\n",
    "soup.find_all(\"tr\")[2].find(\"img\").get(\"title\")"
   ]
  },
  {
   "cell_type": "code",
   "execution_count": 428,
   "metadata": {},
   "outputs": [
    {
     "data": {
      "text/plain": [
       "'00767460'"
      ]
     },
     "execution_count": 428,
     "metadata": {},
     "output_type": "execute_result"
    }
   ],
   "source": [
    "# 회사 id값\n",
    "re.findall(r\"[0-9]{8}\",soup.find_all(\"tr\")[34].find_all(\"a\")[0].get(\"href\"))[0]"
   ]
  },
  {
   "cell_type": "code",
   "execution_count": 398,
   "metadata": {},
   "outputs": [
    {
     "data": {
      "text/plain": [
       "'감사보고서'"
      ]
     },
     "execution_count": 398,
     "metadata": {},
     "output_type": "execute_result"
    }
   ],
   "source": [
    "###### 공시 이름\n",
    "soup.find_all(\"tr\")[5].find_all(\"a\")[1].get(\"title\")[:-8]"
   ]
  },
  {
   "cell_type": "code",
   "execution_count": 399,
   "metadata": {},
   "outputs": [
    {
     "data": {
      "text/plain": [
       "<tr>\n",
       "<td class=\"cen_txt\">\n",
       "\t\t\t\t\t\t10:16\n",
       "\t\t\t\t\t</td>\n",
       "<td>\n",
       "<span class=\"nobr1\" style=\"max-width:150px;\">\n",
       "<img alt=\"기타법인\" src=\"/images/ico_others.gif\" title=\"기타법인\"/> \n",
       "\t\t\t\t\t\t\t<a href=\"/dsae001/selectPopup.ax?selectKey=01145586\" onclick=\"openCorpInfo('01145586'); return false;\" title=\"이수시스템 기업개황 새창\">\n",
       "\t\t\t\t\t\t\t\t이수시스템\n",
       "\t\t\t\t\t\t\t</a>\n",
       "</span>\n",
       "</td>\n",
       "<td>\n",
       "<a href=\"/dsaf001/main.do?rcpNo=20170328000088\" id=\"r_20170328000088\" onclick=\"openReportViewer('20170328000088'); return false;\" title=\"감사보고서 공시뷰어 새창\">감사보고서\n",
       "\t\t\t\t\t\t\t (2016.12)\n",
       "  \t\t\t\t\t\t\t\n",
       "\t\t\t\t\t\t</a>\n",
       "</td>\n",
       "<td title=\"예일회계법인\"><div class=\"nobr\" style=\"width:95px\">예일회계법인</div></td>\n",
       "<td class=\"cen_txt\">2017.03.28</td>\n",
       "<td class=\"cen_txt end\"></td>\n",
       "</tr>"
      ]
     },
     "execution_count": 399,
     "metadata": {},
     "output_type": "execute_result"
    }
   ],
   "source": [
    "soup.find_all(\"tr\")[5]"
   ]
  },
  {
   "cell_type": "code",
   "execution_count": 446,
   "metadata": {},
   "outputs": [
    {
     "data": {
      "text/plain": [
       "'20170328900966'"
      ]
     },
     "execution_count": 446,
     "metadata": {},
     "output_type": "execute_result"
    }
   ],
   "source": [
    "# 해당 공시의 고유값\n",
    "soup.find_all(\"tr\")[34].find_all('td')[2].find('a').get('id')[2:]"
   ]
  },
  {
   "cell_type": "code",
   "execution_count": 432,
   "metadata": {},
   "outputs": [
    {
     "data": {
      "text/plain": [
       "'SKC코오롱PI'"
      ]
     },
     "execution_count": 432,
     "metadata": {},
     "output_type": "execute_result"
    }
   ],
   "source": [
    "# 공시 회사 이름\n",
    "soup.find_all(\"tr\")[34].find_all(\"a\")[0].text.strip()"
   ]
  },
  {
   "cell_type": "code",
   "execution_count": 281,
   "metadata": {},
   "outputs": [
    {
     "data": {
      "text/plain": [
       "'2017.03.28'"
      ]
     },
     "execution_count": 281,
     "metadata": {},
     "output_type": "execute_result"
    }
   ],
   "source": [
    "# 해당 공시의 제출일\n",
    "soup.find_all(\"tr\")[2].find_all(\"td\")[4].text"
   ]
  },
  {
   "cell_type": "code",
   "execution_count": 406,
   "metadata": {},
   "outputs": [
    {
     "ename": "IndexError",
     "evalue": "list index out of range",
     "output_type": "error",
     "traceback": [
      "\u001b[1;31m---------------------------------------------------------------------------\u001b[0m",
      "\u001b[1;31mIndexError\u001b[0m                                Traceback (most recent call last)",
      "\u001b[1;32m<ipython-input-406-d0517a1f2201>\u001b[0m in \u001b[0;36m<module>\u001b[1;34m\u001b[0m\n\u001b[1;32m----> 1\u001b[1;33m \u001b[0msoup\u001b[0m\u001b[1;33m.\u001b[0m\u001b[0mfind_all\u001b[0m\u001b[1;33m(\u001b[0m\u001b[1;34m\"tr\"\u001b[0m\u001b[1;33m)\u001b[0m\u001b[1;33m[\u001b[0m\u001b[1;36m36\u001b[0m\u001b[1;33m]\u001b[0m\u001b[1;33m.\u001b[0m\u001b[0mfind_all\u001b[0m\u001b[1;33m(\u001b[0m\u001b[1;34m\"a\"\u001b[0m\u001b[1;33m)\u001b[0m\u001b[1;33m[\u001b[0m\u001b[1;36m2\u001b[0m\u001b[1;33m]\u001b[0m\u001b[1;33m.\u001b[0m\u001b[0mget\u001b[0m\u001b[1;33m(\u001b[0m\u001b[1;34m\"href\"\u001b[0m\u001b[1;33m)\u001b[0m\u001b[1;33m.\u001b[0m\u001b[0msplit\u001b[0m\u001b[1;33m(\u001b[0m\u001b[1;34m\"rcpNo=\"\u001b[0m\u001b[1;33m)\u001b[0m\u001b[1;33m[\u001b[0m\u001b[1;36m1\u001b[0m\u001b[1;33m]\u001b[0m\u001b[1;33m\u001b[0m\u001b[1;33m\u001b[0m\u001b[0m\n\u001b[0m",
      "\u001b[1;31mIndexError\u001b[0m: list index out of range"
     ]
    }
   ],
   "source": [
    "soup.find_all(\"tr\")[36].find_all(\"a\")[2].get(\"href\").split(\"rcpNo=\")[1]"
   ]
  },
  {
   "cell_type": "code",
   "execution_count": 380,
   "metadata": {},
   "outputs": [
    {
     "ename": "IndexError",
     "evalue": "list index out of range",
     "output_type": "error",
     "traceback": [
      "\u001b[1;31m---------------------------------------------------------------------------\u001b[0m",
      "\u001b[1;31mIndexError\u001b[0m                                Traceback (most recent call last)",
      "\u001b[1;32m<ipython-input-380-8bd301b94ece>\u001b[0m in \u001b[0;36m<module>\u001b[1;34m\u001b[0m\n\u001b[0;32m      1\u001b[0m \u001b[1;32mfor\u001b[0m \u001b[0mi\u001b[0m \u001b[1;32min\u001b[0m \u001b[0mrange\u001b[0m\u001b[1;33m(\u001b[0m\u001b[1;36m1\u001b[0m\u001b[1;33m,\u001b[0m\u001b[1;36m99\u001b[0m\u001b[1;33m)\u001b[0m\u001b[1;33m:\u001b[0m\u001b[1;33m\u001b[0m\u001b[1;33m\u001b[0m\u001b[0m\n\u001b[1;32m----> 2\u001b[1;33m     \u001b[0mprint\u001b[0m\u001b[1;33m(\u001b[0m\u001b[0msoup\u001b[0m\u001b[1;33m.\u001b[0m\u001b[0mfind_all\u001b[0m\u001b[1;33m(\u001b[0m\u001b[1;34m\"tr\"\u001b[0m\u001b[1;33m)\u001b[0m\u001b[1;33m[\u001b[0m\u001b[1;36m5\u001b[0m\u001b[1;33m]\u001b[0m\u001b[1;33m.\u001b[0m\u001b[0mfind_all\u001b[0m\u001b[1;33m(\u001b[0m\u001b[1;34m\"a\"\u001b[0m\u001b[1;33m)\u001b[0m\u001b[1;33m[\u001b[0m\u001b[1;36m2\u001b[0m\u001b[1;33m]\u001b[0m\u001b[1;33m.\u001b[0m\u001b[0mget\u001b[0m\u001b[1;33m(\u001b[0m\u001b[1;34m\"title\"\u001b[0m\u001b[1;33m)\u001b[0m\u001b[1;33m[\u001b[0m\u001b[1;33m:\u001b[0m\u001b[1;33m-\u001b[0m\u001b[1;36m8\u001b[0m\u001b[1;33m]\u001b[0m\u001b[1;33m)\u001b[0m\u001b[1;33m\u001b[0m\u001b[1;33m\u001b[0m\u001b[0m\n\u001b[0m",
      "\u001b[1;31mIndexError\u001b[0m: list index out of range"
     ]
    }
   ],
   "source": [
    "for i in range(1,99):\n",
    "    print(soup.find_all(\"tr\")[5].find_all(\"a\")[2].get(\"title\")[:-8])"
   ]
  },
  {
   "cell_type": "code",
   "execution_count": 423,
   "metadata": {},
   "outputs": [
    {
     "data": {
      "text/plain": [
       "'사외이사의선임ㆍ해임또는중도퇴임에관한신고'"
      ]
     },
     "execution_count": 423,
     "metadata": {},
     "output_type": "execute_result"
    }
   ],
   "source": [
    "soup.find_all(\"tr\")[33].find_all(\"a\")[1].get(\"title\")[:-8]   \n",
    "\n"
   ]
  },
  {
   "cell_type": "code",
   "execution_count": 373,
   "metadata": {},
   "outputs": [
    {
     "name": "stdout",
     "output_type": "stream",
     "text": [
      "http://dart.fss.or.kr/dsac001/mainAll.do?selectDate=2017.03.28&sort=&series=&mdayCnt=0&currentPage=9\n"
     ]
    }
   ],
   "source": [
    "date = \"2017.03.28\"\n",
    "url_part1 = \"\"\"http://dart.fss.or.kr/dsac001/mainAll.do?selectDate=\"\"\"\n",
    "url_part2 = \"\"\"&sort=&series=&mdayCnt=0&currentPage=9\"\"\"\n",
    "    \n",
    "url = url_part1 + date + url_part2\n",
    "print(url)"
   ]
  },
  {
   "cell_type": "code",
   "execution_count": 393,
   "metadata": {
    "scrolled": true
   },
   "outputs": [
    {
     "name": "stdout",
     "output_type": "stream",
     "text": [
      "http://dart.fss.or.kr/dsac001/mainAll.do?selectDate=2017.03.28&sort=&series=&mdayCnt=0&currentPage=1\n",
      "http://dart.fss.or.kr/dsac001/mainAll.do?selectDate=2017.03.28&sort=&series=&mdayCnt=0&currentPage=2\n",
      "http://dart.fss.or.kr/dsac001/mainAll.do?selectDate=2017.03.28&sort=&series=&mdayCnt=0&currentPage=3\n",
      "http://dart.fss.or.kr/dsac001/mainAll.do?selectDate=2017.03.28&sort=&series=&mdayCnt=0&currentPage=4\n",
      "http://dart.fss.or.kr/dsac001/mainAll.do?selectDate=2017.03.28&sort=&series=&mdayCnt=0&currentPage=5\n",
      "http://dart.fss.or.kr/dsac001/mainAll.do?selectDate=2017.03.28&sort=&series=&mdayCnt=0&currentPage=6\n",
      "http://dart.fss.or.kr/dsac001/mainAll.do?selectDate=2017.03.28&sort=&series=&mdayCnt=0&currentPage=7\n",
      "http://dart.fss.or.kr/dsac001/mainAll.do?selectDate=2017.03.28&sort=&series=&mdayCnt=0&currentPage=8\n",
      "http://dart.fss.or.kr/dsac001/mainAll.do?selectDate=2017.03.28&sort=&series=&mdayCnt=0&currentPage=9\n"
     ]
    }
   ],
   "source": [
    "com = pd.DataFrame()\n",
    "com_temp = pd.DataFrame()\n",
    "com_temp = com_temp.append({\"시간\":\"\",\"회사명\":\"\",\"시장유형\":\"\",\"회사key\":\"\",\"공시이름\":\"\",\"공시날짜\":\"\",\"공시ID\":\"\"}, ignore_index=True)\n",
    "com_temp = com_temp[[\"시간\",\"회사명\",\"시장유형\",\"회사key\",\"공시이름\",\"공시날짜\",\"공시ID\"]] \n",
    "for i in range(1,tot+1) :\n",
    "    date = \"2017.03.28\"\n",
    "    url_part1 = \"\"\"http://dart.fss.or.kr/dsac001/mainAll.do?selectDate=\"\"\"\n",
    "    url_part2 = \"\"\"&sort=&series=&mdayCnt=0&currentPage=\"\"\"\n",
    "    url = url_part1 + date + url_part2+str(i)\n",
    "    res = requests.get(url)\n",
    "    print(url)\n",
    "    soup = bs(res.text,\"html.parser\")\n",
    "    for i in range(1,len(soup.find_all(\"tr\"))):\n",
    "        com_temp.iat[0,0] = soup.find_all(\"tr\")[i].find_all(\"td\", {\"class\":\"cen_txt\"})[0].text.strip()\n",
    "        com_temp.iat[0,1] = soup.find_all(\"tr\")[i].find_all(\"a\")[0].text.strip()\n",
    "        com_temp.iat[0,2] = soup.find_all(\"tr\")[i].find(\"img\").get(\"title\")\n",
    "        com_temp.iat[0,3] = re.findall(r\"[0-9]{8}\",soup.find_all(\"tr\")[i].find_all(\"a\")[0].get(\"href\"))[0]\n",
    "        com_temp.iat[0,5] = soup.find_all(\"tr\")[i].find_all(\"td\")[4].text\n",
    "        try :\n",
    "            com_temp.iat[0,6] = soup.find_all(\"tr\")[i].find_all(\"a\")[1].get(\"href\").split(\"rcpNo=\")[1]\n",
    "        except :\n",
    "            com_temp.iat[0,6] = soup.find_all(\"tr\")[i].find_all(\"a\")[2].get(\"href\").split(\"rcpNo=\")[1]\n",
    "        try :\n",
    "            com_temp.iat[0,4] = soup.find_all(\"tr\")[i].find_all(\"a\")[2].get(\"title\")[:-8]\n",
    "        except :\n",
    "            com_temp.iat[0,4] = soup.find_all(\"tr\")[i].find_all(\"a\")[1].get(\"title\")[:-8]   \n",
    "        com= com.append(com_temp,ignore_index=True)\n"
   ]
  },
  {
   "cell_type": "code",
   "execution_count": null,
   "metadata": {},
   "outputs": [],
   "source": []
  },
  {
   "cell_type": "code",
   "execution_count": 394,
   "metadata": {},
   "outputs": [
    {
     "data": {
      "text/html": [
       "<div>\n",
       "<style scoped>\n",
       "    .dataframe tbody tr th:only-of-type {\n",
       "        vertical-align: middle;\n",
       "    }\n",
       "\n",
       "    .dataframe tbody tr th {\n",
       "        vertical-align: top;\n",
       "    }\n",
       "\n",
       "    .dataframe thead th {\n",
       "        text-align: right;\n",
       "    }\n",
       "</style>\n",
       "<table border=\"1\" class=\"dataframe\">\n",
       "  <thead>\n",
       "    <tr style=\"text-align: right;\">\n",
       "      <th></th>\n",
       "      <th>시간</th>\n",
       "      <th>회사명</th>\n",
       "      <th>시장유형</th>\n",
       "      <th>회사key</th>\n",
       "      <th>공시이름</th>\n",
       "      <th>공시날짜</th>\n",
       "      <th>공시ID</th>\n",
       "    </tr>\n",
       "  </thead>\n",
       "  <tbody>\n",
       "    <tr>\n",
       "      <td>0</td>\n",
       "      <td>18:58</td>\n",
       "      <td>포레스팅블록체인</td>\n",
       "      <td>코넥스시장</td>\n",
       "      <td>01109690</td>\n",
       "      <td>감사보고서제출</td>\n",
       "      <td>2017.03.28</td>\n",
       "      <td>20170328601049</td>\n",
       "    </tr>\n",
       "    <tr>\n",
       "      <td>1</td>\n",
       "      <td>18:46</td>\n",
       "      <td>쏠리드</td>\n",
       "      <td>코스닥시장</td>\n",
       "      <td>00364403</td>\n",
       "      <td>불성실공시법인지정예고(공시불이행)</td>\n",
       "      <td>2017.03.28</td>\n",
       "      <td>20170328901048</td>\n",
       "    </tr>\n",
       "    <tr>\n",
       "      <td>2</td>\n",
       "      <td>18:35</td>\n",
       "      <td>코디</td>\n",
       "      <td>코스닥시장</td>\n",
       "      <td>00308559</td>\n",
       "      <td>주권매매거래정지(불성실공시법인 지정)</td>\n",
       "      <td>2017.03.28</td>\n",
       "      <td>20170328901037</td>\n",
       "    </tr>\n",
       "    <tr>\n",
       "      <td>3</td>\n",
       "      <td>18:35</td>\n",
       "      <td>코디</td>\n",
       "      <td>코스닥시장</td>\n",
       "      <td>00308559</td>\n",
       "      <td>불성실공시법인지정(공시불이행)</td>\n",
       "      <td>2017.03.28</td>\n",
       "      <td>20170328901047</td>\n",
       "    </tr>\n",
       "    <tr>\n",
       "      <td>4</td>\n",
       "      <td>18:29</td>\n",
       "      <td>위너지스</td>\n",
       "      <td>기타법인</td>\n",
       "      <td>00207223</td>\n",
       "      <td>주권매매거래정지(불성실공시법인 지정)</td>\n",
       "      <td>2017.03.28</td>\n",
       "      <td>20170328901039</td>\n",
       "    </tr>\n",
       "    <tr>\n",
       "      <td>...</td>\n",
       "      <td>...</td>\n",
       "      <td>...</td>\n",
       "      <td>...</td>\n",
       "      <td>...</td>\n",
       "      <td>...</td>\n",
       "      <td>...</td>\n",
       "      <td>...</td>\n",
       "    </tr>\n",
       "    <tr>\n",
       "      <td>889</td>\n",
       "      <td>07:00</td>\n",
       "      <td>바이더웨이</td>\n",
       "      <td>기타법인</td>\n",
       "      <td>00178806</td>\n",
       "      <td>임원의변동</td>\n",
       "      <td>2017.03.28</td>\n",
       "      <td>20170327000959</td>\n",
       "    </tr>\n",
       "    <tr>\n",
       "      <td>890</td>\n",
       "      <td>07:00</td>\n",
       "      <td>케이엔에프인터내셔날</td>\n",
       "      <td>기타법인</td>\n",
       "      <td>01083000</td>\n",
       "      <td>감사보고서</td>\n",
       "      <td>2017.03.28</td>\n",
       "      <td>20170327000967</td>\n",
       "    </tr>\n",
       "    <tr>\n",
       "      <td>891</td>\n",
       "      <td>07:00</td>\n",
       "      <td>케이피엑스글로벌</td>\n",
       "      <td>기타법인</td>\n",
       "      <td>01078868</td>\n",
       "      <td>감사보고서</td>\n",
       "      <td>2017.03.28</td>\n",
       "      <td>20170327000958</td>\n",
       "    </tr>\n",
       "    <tr>\n",
       "      <td>892</td>\n",
       "      <td>07:00</td>\n",
       "      <td>코리아세븐</td>\n",
       "      <td>기타법인</td>\n",
       "      <td>00186513</td>\n",
       "      <td>동일인등출자계열회사와의상품ㆍ용역거래</td>\n",
       "      <td>2017.03.28</td>\n",
       "      <td>20170327000962</td>\n",
       "    </tr>\n",
       "    <tr>\n",
       "      <td>893</td>\n",
       "      <td>07:00</td>\n",
       "      <td>코릴</td>\n",
       "      <td>기타법인</td>\n",
       "      <td>00862826</td>\n",
       "      <td>감사보고서</td>\n",
       "      <td>2017.03.28</td>\n",
       "      <td>20170327000968</td>\n",
       "    </tr>\n",
       "  </tbody>\n",
       "</table>\n",
       "<p>894 rows × 7 columns</p>\n",
       "</div>"
      ],
      "text/plain": [
       "        시간         회사명   시장유형     회사key                  공시이름        공시날짜  \\\n",
       "0    18:58    포레스팅블록체인  코넥스시장  01109690               감사보고서제출  2017.03.28   \n",
       "1    18:46         쏠리드  코스닥시장  00364403    불성실공시법인지정예고(공시불이행)  2017.03.28   \n",
       "2    18:35          코디  코스닥시장  00308559  주권매매거래정지(불성실공시법인 지정)  2017.03.28   \n",
       "3    18:35          코디  코스닥시장  00308559      불성실공시법인지정(공시불이행)  2017.03.28   \n",
       "4    18:29        위너지스   기타법인  00207223  주권매매거래정지(불성실공시법인 지정)  2017.03.28   \n",
       "..     ...         ...    ...       ...                   ...         ...   \n",
       "889  07:00       바이더웨이   기타법인  00178806                 임원의변동  2017.03.28   \n",
       "890  07:00  케이엔에프인터내셔날   기타법인  01083000                 감사보고서  2017.03.28   \n",
       "891  07:00    케이피엑스글로벌   기타법인  01078868                 감사보고서  2017.03.28   \n",
       "892  07:00       코리아세븐   기타법인  00186513   동일인등출자계열회사와의상품ㆍ용역거래  2017.03.28   \n",
       "893  07:00          코릴   기타법인  00862826                 감사보고서  2017.03.28   \n",
       "\n",
       "               공시ID  \n",
       "0    20170328601049  \n",
       "1    20170328901048  \n",
       "2    20170328901037  \n",
       "3    20170328901047  \n",
       "4    20170328901039  \n",
       "..              ...  \n",
       "889  20170327000959  \n",
       "890  20170327000967  \n",
       "891  20170327000958  \n",
       "892  20170327000962  \n",
       "893  20170327000968  \n",
       "\n",
       "[894 rows x 7 columns]"
      ]
     },
     "execution_count": 394,
     "metadata": {},
     "output_type": "execute_result"
    }
   ],
   "source": [
    "com"
   ]
  },
  {
   "cell_type": "code",
   "execution_count": null,
   "metadata": {},
   "outputs": [],
   "source": []
  },
  {
   "cell_type": "code",
   "execution_count": null,
   "metadata": {},
   "outputs": [],
   "source": []
  }
 ],
 "metadata": {
  "kernelspec": {
   "display_name": "Python 3",
   "language": "python",
   "name": "python3"
  },
  "language_info": {
   "codemirror_mode": {
    "name": "ipython",
    "version": 3
   },
   "file_extension": ".py",
   "mimetype": "text/x-python",
   "name": "python",
   "nbconvert_exporter": "python",
   "pygments_lexer": "ipython3",
   "version": "3.7.4"
  }
 },
 "nbformat": 4,
 "nbformat_minor": 2
}
