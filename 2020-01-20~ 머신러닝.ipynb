{
 "cells": [
  {
   "cell_type": "code",
   "execution_count": 1,
   "metadata": {},
   "outputs": [],
   "source": [
    "# 머신러닝\n",
    "# 지도학습 : 선형회귀, 로직스틱 회귀, svm, 뉴럴네트워크\n",
    "# 비지도 학습 : 유사한 데이터 묶어줌, 군집, 차원축소(데이터 변동), -> 클러스팅에 관련된 분류\n",
    "# 강화학습 : 실제 모델과 연관성 분석\n"
   ]
  },
  {
   "cell_type": "code",
   "execution_count": 2,
   "metadata": {},
   "outputs": [],
   "source": [
    "# 강화학습(supervised learning)\n",
    "# 무조건 정답이 있음 특정 입력에 대해 특정 출력이 나오게 규칙을 찾는것\n",
    "# 데이터에 기반을 해서 규칙을 찾아 새로운 데이터에 적용\n",
    "# 트레이닝 데이터에 라벨(정답지) -> 머신러닝 알고리즘\n",
    "# new data -> predictive model -> prediction\n"
   ]
  },
  {
   "cell_type": "code",
   "execution_count": null,
   "metadata": {},
   "outputs": [],
   "source": [
    "# 회귀 평가지표 : RMSE, MAPE, MASE\n",
    "# 모델이 좋다 나쁘다에 대한 평가지표\n",
    "# RMSE 가 0이면 실제값과 예측값이 같은것\n",
    "# 모델을 만들었으면 그 모델이 성능이 제대로 나오는지 확인하는 평가지표 \n",
    "# 분류는 평가표를 만들수있음."
   ]
  },
  {
   "cell_type": "code",
   "execution_count": 3,
   "metadata": {},
   "outputs": [],
   "source": [
    "# 지도학습에 분류의 문제는 라벨이 정해져있음.\n",
    "# 비지도학습에 분류라고 하는것은 정답지가 없음. => 주관적임\n"
   ]
  },
  {
   "cell_type": "code",
   "execution_count": 4,
   "metadata": {},
   "outputs": [],
   "source": [
    "# 데이터프레임,  샘플즈 * 피쳐(어트리뷰트)  "
   ]
  },
  {
   "cell_type": "code",
   "execution_count": 5,
   "metadata": {},
   "outputs": [],
   "source": [
    "# 상황에 맞게 지도학습 비지도학습 믹스\n",
    "# 보통 라벨을 오른쪽으로 빼고, 만듬"
   ]
  },
  {
   "cell_type": "code",
   "execution_count": 6,
   "metadata": {},
   "outputs": [],
   "source": [
    "# 내부적으로 어떻게 모델을 들어갈것인가.\n",
    "# 데이터프레임을 행렬로 본다면 \n",
    "# x에 대한 특징 매트릭스 벡터로 표현 \n",
    "# 문자값은 숫자값으로 변경해야함\n"
   ]
  },
  {
   "cell_type": "code",
   "execution_count": 7,
   "metadata": {},
   "outputs": [],
   "source": [
    "# 기본적인 프로세스\n",
    "# 1. 데이터를 불러온다.\n",
    "# 2. 특징(피쳐)과 정답지(라벨즈)를 분류한다.\n",
    "# 3. 트레이닝과 테스트로 데이터셋 분류\n",
    "# 4. 알고리즘 실행 (성능이 망하면 피쳐를 다시 잡아야함)\n",
    "# 5. 알고리즘에 대해 모델 정함\n",
    "# 6. 평가 \n",
    "# 7. 새로운데이터 예측"
   ]
  },
  {
   "cell_type": "code",
   "execution_count": 2,
   "metadata": {},
   "outputs": [],
   "source": [
    "# knn - 가장 기본적인 분류 알고리즘\n",
    "# 분류이기 떄문에 정답지를 갖고있다.\n",
    "# 빨간색이냐 파란색이냐\n",
    "# mnist -> 필기체 인식\n",
    "# \n",
    "from sklearn.datasets import fetch_mldata\n",
    "from sklearn.model_selection import train_test_split\n"
   ]
  },
  {
   "cell_type": "code",
   "execution_count": 3,
   "metadata": {},
   "outputs": [
    {
     "name": "stderr",
     "output_type": "stream",
     "text": [
      "C:\\Users\\1-13\\AppData\\Local\\Continuum\\anaconda3\\lib\\site-packages\\sklearn\\utils\\deprecation.py:85: DeprecationWarning: Function fetch_mldata is deprecated; fetch_mldata was deprecated in version 0.20 and will be removed in version 0.22. Please use fetch_openml.\n",
      "  warnings.warn(msg, category=DeprecationWarning)\n",
      "C:\\Users\\1-13\\AppData\\Local\\Continuum\\anaconda3\\lib\\site-packages\\sklearn\\utils\\deprecation.py:85: DeprecationWarning: Function mldata_filename is deprecated; mldata_filename was deprecated in version 0.20 and will be removed in version 0.22. Please use fetch_openml.\n",
      "  warnings.warn(msg, category=DeprecationWarning)\n"
     ]
    }
   ],
   "source": [
    "from sklearn.datasets import fetch_mldata\n",
    "mnist = fetch_mldata(\"MNIST original\")"
   ]
  },
  {
   "cell_type": "code",
   "execution_count": 4,
   "metadata": {},
   "outputs": [
    {
     "data": {
      "text/plain": [
       "{'DESCR': 'mldata.org dataset: mnist-original',\n",
       " 'COL_NAMES': ['label', 'data'],\n",
       " 'target': array([0., 0., 0., ..., 9., 9., 9.]),\n",
       " 'data': array([[0, 0, 0, ..., 0, 0, 0],\n",
       "        [0, 0, 0, ..., 0, 0, 0],\n",
       "        [0, 0, 0, ..., 0, 0, 0],\n",
       "        ...,\n",
       "        [0, 0, 0, ..., 0, 0, 0],\n",
       "        [0, 0, 0, ..., 0, 0, 0],\n",
       "        [0, 0, 0, ..., 0, 0, 0]], dtype=uint8)}"
      ]
     },
     "execution_count": 4,
     "metadata": {},
     "output_type": "execute_result"
    }
   ],
   "source": [
    "mnist\n",
    "# dtype = unit8 -> 0 ~ 255 까지 명암 표현"
   ]
  },
  {
   "cell_type": "code",
   "execution_count": 85,
   "metadata": {},
   "outputs": [
    {
     "name": "stdout",
     "output_type": "stream",
     "text": [
      "35000\n",
      "35000\n"
     ]
    },
    {
     "name": "stderr",
     "output_type": "stream",
     "text": [
      "C:\\Users\\1-13\\AppData\\Local\\Continuum\\anaconda3\\lib\\site-packages\\sklearn\\utils\\deprecation.py:85: DeprecationWarning: Function fetch_mldata is deprecated; fetch_mldata was deprecated in version 0.20 and will be removed in version 0.22. Please use fetch_openml.\n",
      "  warnings.warn(msg, category=DeprecationWarning)\n",
      "C:\\Users\\1-13\\AppData\\Local\\Continuum\\anaconda3\\lib\\site-packages\\sklearn\\utils\\deprecation.py:85: DeprecationWarning: Function mldata_filename is deprecated; mldata_filename was deprecated in version 0.20 and will be removed in version 0.22. Please use fetch_openml.\n",
      "  warnings.warn(msg, category=DeprecationWarning)\n"
     ]
    }
   ],
   "source": [
    "mnist = fetch_mldata(\"MNIST original\")\n",
    "import matplotlib.pylab as plt\n",
    "import time\n",
    "import numpy as np\n",
    "(train_data, test_data, train_labels,test_labels) = train_test_split(np.array(mnist.data),\n",
    "                                                                      mnist.target,test_size = 0.5 ,\n",
    "                                                                      random_state=1234)\n",
    "\n",
    "print(len(train_data))\n",
    "print(len(test_data))"
   ]
  },
  {
   "cell_type": "code",
   "execution_count": 86,
   "metadata": {},
   "outputs": [
    {
     "name": "stdout",
     "output_type": "stream",
     "text": [
      "[0. 1. 2. 3. 4. 5. 6. 7. 8. 9.]\n"
     ]
    }
   ],
   "source": [
    "# 0~9 까지 데이터가 다 들어있는지 확인!\n",
    "print(np.unique(train_labels))"
   ]
  },
  {
   "cell_type": "code",
   "execution_count": 87,
   "metadata": {},
   "outputs": [
    {
     "name": "stdout",
     "output_type": "stream",
     "text": [
      "[[0.000e+00 3.401e+03]\n",
      " [1.000e+00 3.960e+03]\n",
      " [2.000e+00 3.506e+03]\n",
      " [3.000e+00 3.600e+03]\n",
      " [4.000e+00 3.438e+03]\n",
      " [5.000e+00 3.147e+03]\n",
      " [6.000e+00 3.456e+03]\n",
      " [7.000e+00 3.589e+03]\n",
      " [8.000e+00 3.437e+03]\n",
      " [9.000e+00 3.466e+03]]\n"
     ]
    }
   ],
   "source": [
    "# 학습시키려는 데이터의 분포가 균일하게 적당히 분포되었는지 확인\n",
    "# numpy의 unique 활용 \n",
    "unique, counts = np.unique(train_labels,return_counts=True)\n",
    "print(np.asarray((unique,counts)).T)"
   ]
  },
  {
   "cell_type": "code",
   "execution_count": 88,
   "metadata": {},
   "outputs": [],
   "source": [
    "# 실제 데이터 값을 이미지로 확인해보자!\n",
    "# http://yann.lecun.com/exdb/mnist/\n",
    "# 28바이 28의 이미지를 확인, 값을 온도에 따라 표현, heatmap 온도값을 색깔로 표현\n",
    "# 시각화 부분 http://seaborn.pydata.org/generated/seaborn.heatmap.html"
   ]
  },
  {
   "cell_type": "code",
   "execution_count": 89,
   "metadata": {},
   "outputs": [],
   "source": [
    "import seaborn as sns"
   ]
  },
  {
   "cell_type": "code",
   "execution_count": 90,
   "metadata": {},
   "outputs": [
    {
     "name": "stdout",
     "output_type": "stream",
     "text": [
      "(784,)\n",
      "28.0\n"
     ]
    }
   ],
   "source": [
    "# 이미 앞에서 label은 분리하였으니, 순수 데이터에서 크기 부분을 확인하자!!!\n",
    "print(train_data[0].shape)\n",
    "print(np.sqrt(train_data[0].shape[0]))"
   ]
  },
  {
   "cell_type": "code",
   "execution_count": 91,
   "metadata": {},
   "outputs": [
    {
     "name": "stdout",
     "output_type": "stream",
     "text": [
      "(784,)\n",
      "28.0\n"
     ]
    }
   ],
   "source": [
    "print(test_data[0].shape)\n",
    "print(np.sqrt(test_data[0].shape[0]))"
   ]
  },
  {
   "cell_type": "code",
   "execution_count": 92,
   "metadata": {},
   "outputs": [
    {
     "data": {
      "text/plain": [
       "<matplotlib.axes._subplots.AxesSubplot at 0x2490076f9c8>"
      ]
     },
     "execution_count": 92,
     "metadata": {},
     "output_type": "execute_result"
    },
    {
     "data": {
      "image/png": "[encoded data removed]",
      "text/plain": [
       "<Figure size 432x288 with 2 Axes>"
      ]
     },
     "metadata": {
      "needs_background": "light"
     },
     "output_type": "display_data"
    }
   ],
   "source": [
    "# 보고자 하는 데이터의 index (가로줄)\n",
    "idx = 0\n",
    "image_data = train_data[idx]\n",
    "\n",
    "# 1차원이기 때문에 실제 값을 계산하기 위해서는 1차원의 길이값을 획득 & 이를 제곱근으로 변환\n",
    "tot_size = image_data.shape[0]\n",
    "one_size = int(np.sqrt(tot_size))\n",
    "\n",
    "# 그림으로 표현\n",
    "sns.heatmap(np.reshape(image_data,(one_size,one_size)), linewidth=0.1,xticklabels=False)"
   ]
  },
  {
   "cell_type": "code",
   "execution_count": 93,
   "metadata": {},
   "outputs": [
    {
     "data": {
      "text/plain": [
       "<matplotlib.axes._subplots.AxesSubplot at 0x249017ab9c8>"
      ]
     },
     "execution_count": 93,
     "metadata": {},
     "output_type": "execute_result"
    },
    {
     "data": {
      "image/png": "[encoded data removed]",
      "text/plain": [
       "<Figure size 432x288 with 2 Axes>"
      ]
     },
     "metadata": {
      "needs_background": "light"
     },
     "output_type": "display_data"
    }
   ],
   "source": [
    "sns.heatmap(np.reshape(image_data,(one_size,one_size)), linewidth=0.1,xticklabels=True,yticklabels=True,annot=True)"
   ]
  },
  {
   "cell_type": "code",
   "execution_count": 77,
   "metadata": {},
   "outputs": [],
   "source": [
    "# Normalization - Max / Min method\n",
    "# 사람 키에 대한 컬럼\n",
    "# 혈압은?? 피검사 했더니 pH 1 ~ 15\n",
    "# 0.1 -> 1.1 : 10배 변동\n",
    "# 10000 -> 20000 : 2배 변동\n",
    "# 변동폭에 대한 부분이 있어야함\n",
    "# 똑같이 맞춰주고 변동폭만 가지고 영향을 미치는지 안미치는지 확인\n",
    "# 컬럼에 대한 최소값 최대값만가지고 아니면 0 ~ 1까지의 값\n",
    "# 각각 피쳐마다 고르게 적당하게 만드는것\n",
    "# new x = (x - x_min)/(x_max-x_min)"
   ]
  },
  {
   "cell_type": "code",
   "execution_count": null,
   "metadata": {},
   "outputs": [],
   "source": []
  },
  {
   "cell_type": "code",
   "execution_count": 94,
   "metadata": {},
   "outputs": [],
   "source": [
    "from sklearn.preprocessing import MinMaxScaler\n",
    "min_max_scaler = MinMaxScaler()\n",
    "train_norm=min_max_scaler.fit_transform(train_data)\n",
    "test_norm=min_max_scaler.fit_transform(test_data)\n",
    "\n",
    "# 값들의 변경\n",
    "# 주어진데이터에 대해서 체크, 값들의 변경, 주어진 데이터에 맞춰서 변경, train/test data를 변경\n",
    "# 변동폭체크해서 변경\n",
    "# 기준에 대해서 테스트에 적용"
   ]
  },
  {
   "cell_type": "code",
   "execution_count": 124,
   "metadata": {},
   "outputs": [],
   "source": [
    "# 데이터를 까서 시각화,, 전처리\n",
    "# knn 여러가지 파라미터 있음. 특히 n_jobs : 컴퓨터성능 최대로 병렬 처리할수있도록 해주는 변수(-1하면 최대)"
   ]
  },
  {
   "cell_type": "code",
   "execution_count": 100,
   "metadata": {},
   "outputs": [],
   "source": [
    "import time\n",
    "from sklearn.neighbors import KNeighborsClassifier\n",
    "from sklearn.metrics import accuracy_score\n",
    "from sklearn.model_selection import cross_val_score\n",
    "train_data1 = np.concatenate((train_data, train_data), axis=0)\n",
    "train_labels1 = np.concatenate((train_labels, train_labels), axis=0)\n",
    "\n",
    "# 분류, 정확도, 과적합피하고자 "
   ]
  },
  {
   "cell_type": "code",
   "execution_count": null,
   "metadata": {
    "scrolled": true
   },
   "outputs": [],
   "source": [
    "t1 = time.time()\n",
    "# 모델 세팅\n",
    "# instantiate learning model(k=3)\n",
    "# n_jobs= -1 하지 않으면 시간 많이 걸림\n",
    "knn = KNeighborsClassifier(n_neighbors=3,n_jobs=-1)\n",
    "\n",
    "# 모의고사 문제 정답지 세팅\n",
    "# fitting the model\n",
    "knn.fit(train_data1,train_labels1)\n",
    "\n",
    "# 실전문제 테스트\n",
    "# predict the response\n",
    "pred = knn.predict(test_data)\n",
    "\n",
    "t2 = time.time()\n",
    "print(\"Process Time :\" + str(t2-t1))\n",
    "\n",
    "# 실제값과 비교 / 채점\n",
    "print(accuracy_score(test_labels,pred))"
   ]
  },
  {
   "cell_type": "code",
   "execution_count": 127,
   "metadata": {},
   "outputs": [
    {
     "name": "stdout",
     "output_type": "stream",
     "text": [
      "0.9712186538205725\n",
      "0.9714660951214116\n",
      "0.9701332546666194\n",
      "0.9691615104010239\n",
      "0.9672760819527358\n"
     ]
    }
   ],
   "source": [
    "# 통으로 학습하지 않고 나눠서 평가하는것\n",
    "t1 = time.time()\n",
    "myList = list(range(1,10))\n",
    "\n",
    "neighbors = filter(lambda x : x % 2 != 0, myList)\n",
    "\n",
    "# 각각 평가하기 위해서 만듬\n",
    "cv_scores = []\n",
    "\n",
    "# 모델 준비 10등분해서 학습 테스트를 반복 (accuracy의 관점에서 채점)\n",
    "# 10번의 셋으로 나눴을때 평균값 cv score에 담아놓음\n",
    "# 에러가 적은 부분에 대해서 봐야됨\n",
    "# 정확도가 95% 에러가 5% \n",
    "# cv_score기준 몇개 맞췄는지 \n",
    "for k in neighbors:\n",
    "    knn = KNeighborsClassifier(n_neighbors=k,n_jobs=-1)\n",
    "    scores = cross_val_score(knn, train_data, train_labels, cv=10,scoring=\"accuracy\")\n",
    "    cv_scores.append(scores.mean())\n",
    "    print(scores.mean())\n",
    "\n",
    "\n",
    "\n",
    "\n",
    "\n"
   ]
  },
  {
   "cell_type": "code",
   "execution_count": 127,
   "metadata": {},
   "outputs": [
    {
     "ename": "SyntaxError",
     "evalue": "invalid syntax (<ipython-input-127-91985ae3798a>, line 5)",
     "output_type": "error",
     "traceback": [
      "\u001b[1;36m  File \u001b[1;32m\"<ipython-input-127-91985ae3798a>\"\u001b[1;36m, line \u001b[1;32m5\u001b[0m\n\u001b[1;33m    optimal k = neighbors[MSE.index(min(MSE))]\u001b[0m\n\u001b[1;37m            ^\u001b[0m\n\u001b[1;31mSyntaxError\u001b[0m\u001b[1;31m:\u001b[0m invalid syntax\n"
     ]
    }
   ],
   "source": [
    "# 에러율 표현   \n",
    "MSE = [1 - x for x in cv_scores]\n",
    "\n",
    "# \n",
    "optimal k = neighbors[MSE.index(min(MSE))]\n",
    "print(\"The optimal number of neighbors is %d\" % optimal_k)\n",
    "\n",
    "# \n",
    "plt.plot(neighbors, MSE)\n",
    "plt.xlabel(\"Number of Neighbors K\")\n",
    "plt.ylabel(\"Misclassification Error\")\n",
    "plt.show()\n",
    "t2 = time.time()\n",
    "\n",
    "print(\"Process Time :\" + str(t2-t1))"
   ]
  },
  {
   "cell_type": "code",
   "execution_count": 10,
   "metadata": {},
   "outputs": [
    {
     "ename": "NameError",
     "evalue": "name 'train_data' is not defined",
     "output_type": "error",
     "traceback": [
      "\u001b[1;31m---------------------------------------------------------------------------\u001b[0m",
      "\u001b[1;31mNameError\u001b[0m                                 Traceback (most recent call last)",
      "\u001b[1;32m<ipython-input-10-8c1025d1b195>\u001b[0m in \u001b[0;36m<module>\u001b[1;34m\u001b[0m\n\u001b[0;32m      1\u001b[0m \u001b[1;32mfrom\u001b[0m \u001b[0msklearn\u001b[0m\u001b[1;33m.\u001b[0m\u001b[0mpreprocessing\u001b[0m \u001b[1;32mimport\u001b[0m \u001b[0mMinMaxScaler\u001b[0m\u001b[1;33m\u001b[0m\u001b[1;33m\u001b[0m\u001b[0m\n\u001b[0;32m      2\u001b[0m \u001b[0mmin_max_scaler\u001b[0m \u001b[1;33m=\u001b[0m \u001b[0mMinMaxScaler\u001b[0m\u001b[1;33m(\u001b[0m\u001b[1;33m)\u001b[0m\u001b[1;33m\u001b[0m\u001b[1;33m\u001b[0m\u001b[0m\n\u001b[1;32m----> 3\u001b[1;33m \u001b[0mtrain_norm\u001b[0m\u001b[1;33m=\u001b[0m\u001b[0mmin_max_scaler\u001b[0m\u001b[1;33m.\u001b[0m\u001b[0mfit_transform\u001b[0m\u001b[1;33m(\u001b[0m\u001b[0mtrain_data\u001b[0m\u001b[1;33m)\u001b[0m\u001b[1;33m\u001b[0m\u001b[1;33m\u001b[0m\u001b[0m\n\u001b[0m\u001b[0;32m      4\u001b[0m \u001b[0mtest_norm\u001b[0m\u001b[1;33m=\u001b[0m\u001b[0mmin_max_scaler\u001b[0m\u001b[1;33m.\u001b[0m\u001b[0mfit_transform\u001b[0m\u001b[1;33m(\u001b[0m\u001b[0mtest_data\u001b[0m\u001b[1;33m)\u001b[0m\u001b[1;33m\u001b[0m\u001b[1;33m\u001b[0m\u001b[0m\n\u001b[0;32m      5\u001b[0m \u001b[1;33m\u001b[0m\u001b[0m\n",
      "\u001b[1;31mNameError\u001b[0m: name 'train_data' is not defined"
     ]
    }
   ],
   "source": []
  },
  {
   "cell_type": "code",
   "execution_count": 128,
   "metadata": {},
   "outputs": [
    {
     "name": "stdout",
     "output_type": "stream",
     "text": [
      "0.24603991339074618\n",
      "0.26066758270076895\n",
      "0.26702923201380285\n",
      "0.2729710035197217\n",
      "0.27474384309626554\n"
     ]
    }
   ],
   "source": [
    "# 통으로 학습하지 않고 나눠서 평가하는것\n",
    "from sklearn.decomposition import PCA\n",
    "t1 = time.time()\n",
    "myList = list(range(1,10))\n",
    "\n",
    "neighbors = filter(lambda x : x % 2 != 0, myList)\n",
    "\n",
    "# 각각 평가하기 위해서 만듬\n",
    "cv_scores = []\n",
    "\n",
    "# 모델 준비 10등분해서 학습 테스트를 반복 (accuracy의 관점에서 채점)\n",
    "# 10번의 셋으로 나눴을때 평균값 cv score에 담아놓음\n",
    "# 에러가 적은 부분에 대해서 봐야됨\n",
    "# 정확도가 95% 에러가 5% \n",
    "# cv_score기준 몇개 맞췄는지 \n",
    "num_comp = 1\n",
    "pca = PCA(n_components=num_comp)\n",
    "pca.fit(train_data)\n",
    "train_ext = pca.fit_transform(train_data)\n",
    "\n",
    "\n",
    "for k in neighbors:\n",
    "    knn = KNeighborsClassifier(n_neighbors=k,n_jobs=-1)\n",
    "    scores = cross_val_score(knn, train_ext, train_labels, cv=10,scoring=\"accuracy\")\n",
    "    cv_scores.append(scores.mean())\n",
    "    print(scores.mean())\n",
    "\n",
    "\n",
    "\n",
    "\n",
    "\n"
   ]
  },
  {
   "cell_type": "code",
   "execution_count": 129,
   "metadata": {},
   "outputs": [],
   "source": [
    "from sklearn.decomposition import PCA"
   ]
  },
  {
   "cell_type": "code",
   "execution_count": 130,
   "metadata": {},
   "outputs": [],
   "source": [
    "num_comp = 4\n",
    "pca = PCA(n_components=num_comp)"
   ]
  },
  {
   "cell_type": "code",
   "execution_count": 131,
   "metadata": {},
   "outputs": [
    {
     "data": {
      "text/plain": [
       "PCA(copy=True, iterated_power='auto', n_components=4, random_state=None,\n",
       "    svd_solver='auto', tol=0.0, whiten=False)"
      ]
     },
     "execution_count": 131,
     "metadata": {},
     "output_type": "execute_result"
    }
   ],
   "source": [
    "pca.fit(train_data)"
   ]
  },
  {
   "cell_type": "code",
   "execution_count": 132,
   "metadata": {},
   "outputs": [
    {
     "data": {
      "text/plain": [
       "0.2841219982273557"
      ]
     },
     "execution_count": 132,
     "metadata": {},
     "output_type": "execute_result"
    }
   ],
   "source": [
    "# determine amount of variance explained by components\n",
    "np.sum(pca.explained_variance_ratio_)"
   ]
  },
  {
   "cell_type": "code",
   "execution_count": 133,
   "metadata": {},
   "outputs": [
    {
     "data": {
      "image/png": "[encoded data removed]",
      "text/plain": [
       "<Figure size 432x288 with 1 Axes>"
      ]
     },
     "metadata": {
      "needs_background": "light"
     },
     "output_type": "display_data"
    }
   ],
   "source": [
    "plt.plot(pca.explained_variance_ratio_)\n",
    "plt.title(\"Variance Explained by Extracted Component\")\n",
    "plt.show()"
   ]
  },
  {
   "cell_type": "code",
   "execution_count": 134,
   "metadata": {},
   "outputs": [
    {
     "name": "stdout",
     "output_type": "stream",
     "text": [
      "(52500, 4)\n"
     ]
    }
   ],
   "source": [
    "train_ext = pca.fit_transform(train_data)\n",
    "print(train_ext.shape)"
   ]
  },
  {
   "cell_type": "code",
   "execution_count": 135,
   "metadata": {},
   "outputs": [
    {
     "name": "stdout",
     "output_type": "stream",
     "text": [
      "(17500, 4)\n"
     ]
    }
   ],
   "source": [
    "test_ext = pca.transform(test_data)\n",
    "print(test_ext.shape)"
   ]
  },
  {
   "cell_type": "code",
   "execution_count": 8,
   "metadata": {},
   "outputs": [
    {
     "ename": "NameError",
     "evalue": "name 'min_max_scaler' is not defined",
     "output_type": "error",
     "traceback": [
      "\u001b[1;31m---------------------------------------------------------------------------\u001b[0m",
      "\u001b[1;31mNameError\u001b[0m                                 Traceback (most recent call last)",
      "\u001b[1;32m<ipython-input-8-86c64f0d3051>\u001b[0m in \u001b[0;36m<module>\u001b[1;34m\u001b[0m\n\u001b[0;32m      1\u001b[0m \u001b[1;32mimport\u001b[0m \u001b[0mnumpy\u001b[0m \u001b[1;32mas\u001b[0m \u001b[0mnp\u001b[0m\u001b[1;33m\u001b[0m\u001b[1;33m\u001b[0m\u001b[0m\n\u001b[1;32m----> 2\u001b[1;33m \u001b[0mtrain_norm\u001b[0m\u001b[1;33m=\u001b[0m\u001b[0mmin_max_scaler\u001b[0m\u001b[1;33m.\u001b[0m\u001b[0mfit_transform\u001b[0m\u001b[1;33m(\u001b[0m\u001b[0mtrain_ext\u001b[0m\u001b[1;33m)\u001b[0m\u001b[1;33m\u001b[0m\u001b[1;33m\u001b[0m\u001b[0m\n\u001b[0m\u001b[0;32m      3\u001b[0m \u001b[0mtest_norm\u001b[0m\u001b[1;33m=\u001b[0m\u001b[0mmin_max_scaler\u001b[0m\u001b[1;33m.\u001b[0m\u001b[0mfit_transform\u001b[0m\u001b[1;33m(\u001b[0m\u001b[0mtest_ext\u001b[0m\u001b[1;33m)\u001b[0m\u001b[1;33m\u001b[0m\u001b[1;33m\u001b[0m\u001b[0m\n\u001b[0;32m      4\u001b[0m \u001b[0mtrain_norm1\u001b[0m \u001b[1;33m=\u001b[0m \u001b[0mnp\u001b[0m\u001b[1;33m.\u001b[0m\u001b[0mconcatenate\u001b[0m\u001b[1;33m(\u001b[0m\u001b[1;33m(\u001b[0m\u001b[0mtrain_norm\u001b[0m\u001b[1;33m,\u001b[0m\u001b[0mtrain_norm\u001b[0m\u001b[1;33m)\u001b[0m\u001b[1;33m)\u001b[0m\u001b[1;33m\u001b[0m\u001b[1;33m\u001b[0m\u001b[0m\n\u001b[0;32m      5\u001b[0m \u001b[0mtrain_labels1\u001b[0m \u001b[1;33m=\u001b[0m \u001b[0mnp\u001b[0m\u001b[1;33m.\u001b[0m\u001b[0mconcatenate\u001b[0m\u001b[1;33m(\u001b[0m\u001b[1;33m(\u001b[0m\u001b[0mtrain_labels\u001b[0m\u001b[1;33m,\u001b[0m\u001b[0mtrain_labels\u001b[0m\u001b[1;33m)\u001b[0m\u001b[1;33m)\u001b[0m\u001b[1;33m\u001b[0m\u001b[1;33m\u001b[0m\u001b[0m\n",
      "\u001b[1;31mNameError\u001b[0m: name 'min_max_scaler' is not defined"
     ]
    }
   ],
   "source": [
    "import numpy as np\n",
    "train_norm=min_max_scaler.fit_transform(train_ext)\n",
    "test_norm=min_max_scaler.fit_transform(test_ext)\n",
    "train_norm1 = np.concatenate((train_norm,train_norm)) \n",
    "train_labels1 = np.concatenate((train_labels,train_labels)) \n"
   ]
  },
  {
   "cell_type": "code",
   "execution_count": 5,
   "metadata": {},
   "outputs": [
    {
     "ename": "NameError",
     "evalue": "name 'KNeighborsClassifier' is not defined",
     "output_type": "error",
     "traceback": [
      "\u001b[1;31m---------------------------------------------------------------------------\u001b[0m",
      "\u001b[1;31mNameError\u001b[0m                                 Traceback (most recent call last)",
      "\u001b[1;32m<ipython-input-5-cd788303183e>\u001b[0m in \u001b[0;36m<module>\u001b[1;34m\u001b[0m\n\u001b[1;32m----> 1\u001b[1;33m \u001b[0mknn\u001b[0m \u001b[1;33m=\u001b[0m \u001b[0mKNeighborsClassifier\u001b[0m\u001b[1;33m(\u001b[0m\u001b[1;33m)\u001b[0m\u001b[1;33m\u001b[0m\u001b[1;33m\u001b[0m\u001b[0m\n\u001b[0m\u001b[0;32m      2\u001b[0m \u001b[0mknn\u001b[0m\u001b[1;33m.\u001b[0m\u001b[0mfit\u001b[0m\u001b[1;33m(\u001b[0m\u001b[0mtrain_norm1\u001b[0m\u001b[1;33m,\u001b[0m\u001b[0mtrain_labels1\u001b[0m\u001b[1;33m)\u001b[0m\u001b[1;33m\u001b[0m\u001b[1;33m\u001b[0m\u001b[0m\n",
      "\u001b[1;31mNameError\u001b[0m: name 'KNeighborsClassifier' is not defined"
     ]
    }
   ],
   "source": [
    "knn = KNeighborsClassifier()\n",
    "knn.fit(train_norm1,train_labels1)\n"
   ]
  },
  {
   "cell_type": "code",
   "execution_count": 138,
   "metadata": {},
   "outputs": [],
   "source": [
    "from sklearn.model_selection import cross_val_score"
   ]
  },
  {
   "cell_type": "code",
   "execution_count": 3,
   "metadata": {},
   "outputs": [
    {
     "ename": "NameError",
     "evalue": "name 'cross_val_score' is not defined",
     "output_type": "error",
     "traceback": [
      "\u001b[1;31m---------------------------------------------------------------------------\u001b[0m",
      "\u001b[1;31mNameError\u001b[0m                                 Traceback (most recent call last)",
      "\u001b[1;32m<ipython-input-3-5d2108bf35b5>\u001b[0m in \u001b[0;36m<module>\u001b[1;34m\u001b[0m\n\u001b[0;32m      1\u001b[0m \u001b[1;31m# 784개 가 아니라 40개 대상으로 하는것이기 때문에 더 라이트 하게 돌아감\u001b[0m\u001b[1;33m\u001b[0m\u001b[1;33m\u001b[0m\u001b[1;33m\u001b[0m\u001b[0m\n\u001b[1;32m----> 2\u001b[1;33m \u001b[0mcross_val_score\u001b[0m\u001b[1;33m(\u001b[0m\u001b[0mknn\u001b[0m\u001b[1;33m,\u001b[0m \u001b[0mtrain_norm\u001b[0m\u001b[1;33m,\u001b[0m \u001b[0mtrain_labels\u001b[0m\u001b[1;33m,\u001b[0m \u001b[0mcv\u001b[0m\u001b[1;33m=\u001b[0m\u001b[1;36m4\u001b[0m\u001b[1;33m)\u001b[0m\u001b[1;33m\u001b[0m\u001b[1;33m\u001b[0m\u001b[0m\n\u001b[0m",
      "\u001b[1;31mNameError\u001b[0m: name 'cross_val_score' is not defined"
     ]
    }
   ],
   "source": [
    "# 784개 가 아니라 40개 대상으로 하는것이기 때문에 더 라이트 하게 돌아감\n",
    "cross_val_score(knn, train_norm, train_labels, cv=4)"
   ]
  },
  {
   "cell_type": "code",
   "execution_count": 140,
   "metadata": {},
   "outputs": [],
   "source": [
    "# 위의 기본세팅에서도 거의 97퍼센트의 결과가 나타났는데 pca로 성분을 줄이면 오히려 더 좋은 성능이나, 적은 데이터로 유사한\n",
    "# 성능을 확보할수있다.\n",
    "# 이와 같은 방법을 주로사용하는 이유는 knn은 상당히 심플하면서도 성능이 좋은 알고리즘인데 문제를 차원의 저주에 걸리면 \n",
    "# 상당한 성능저하를 야기하고 있다. 그래서 기본적으로 많은 사람들이 pca나 dt등 여러가지 방법을 사용하여서 차원축소를 하여\n",
    "# 적용하는 경우가 많음."
   ]
  },
  {
   "cell_type": "code",
   "execution_count": 4,
   "metadata": {},
   "outputs": [
    {
     "ename": "NameError",
     "evalue": "name 'knn' is not defined",
     "output_type": "error",
     "traceback": [
      "\u001b[1;31m---------------------------------------------------------------------------\u001b[0m",
      "\u001b[1;31mNameError\u001b[0m                                 Traceback (most recent call last)",
      "\u001b[1;32m<ipython-input-4-8f1e4a6b45b2>\u001b[0m in \u001b[0;36m<module>\u001b[1;34m\u001b[0m\n\u001b[1;32m----> 1\u001b[1;33m \u001b[0mpred\u001b[0m \u001b[1;33m=\u001b[0m \u001b[0mknn\u001b[0m\u001b[1;33m.\u001b[0m\u001b[0mpredict\u001b[0m\u001b[1;33m(\u001b[0m\u001b[0mtest_norm\u001b[0m\u001b[1;33m)\u001b[0m\u001b[1;33m\u001b[0m\u001b[1;33m\u001b[0m\u001b[0m\n\u001b[0m\u001b[0;32m      2\u001b[0m \u001b[0maccuracy_score\u001b[0m\u001b[1;33m(\u001b[0m\u001b[0mtest_labels\u001b[0m\u001b[1;33m,\u001b[0m\u001b[0mpred\u001b[0m\u001b[1;33m)\u001b[0m\u001b[1;33m\u001b[0m\u001b[1;33m\u001b[0m\u001b[0m\n",
      "\u001b[1;31mNameError\u001b[0m: name 'knn' is not defined"
     ]
    }
   ],
   "source": [
    "pred = knn.predict(test_norm)\n",
    "accuracy_score(test_labels,pred)"
   ]
  },
  {
   "cell_type": "code",
   "execution_count": 1,
   "metadata": {},
   "outputs": [
    {
     "ename": "NameError",
     "evalue": "name 'knn' is not defined",
     "output_type": "error",
     "traceback": [
      "\u001b[1;31m---------------------------------------------------------------------------\u001b[0m",
      "\u001b[1;31mNameError\u001b[0m                                 Traceback (most recent call last)",
      "\u001b[1;32m<ipython-input-1-8caf9e62284e>\u001b[0m in \u001b[0;36m<module>\u001b[1;34m\u001b[0m\n\u001b[1;32m----> 1\u001b[1;33m \u001b[0mpred2\u001b[0m \u001b[1;33m=\u001b[0m \u001b[0mknn\u001b[0m\u001b[1;33m.\u001b[0m\u001b[0mpredict\u001b[0m\u001b[1;33m(\u001b[0m\u001b[0mtest_norm\u001b[0m\u001b[1;33m)\u001b[0m\u001b[1;33m\u001b[0m\u001b[1;33m\u001b[0m\u001b[0m\n\u001b[0m\u001b[0;32m      2\u001b[0m \u001b[0maccuracy_score\u001b[0m\u001b[1;33m(\u001b[0m\u001b[0mtest_labels\u001b[0m\u001b[1;33m,\u001b[0m\u001b[0mpred2\u001b[0m\u001b[1;33m)\u001b[0m\u001b[1;33m\u001b[0m\u001b[1;33m\u001b[0m\u001b[0m\n",
      "\u001b[1;31mNameError\u001b[0m: name 'knn' is not defined"
     ]
    }
   ],
   "source": [
    "pred2 = knn.predict(test_norm)\n",
    "accuracy_score(test_labels,pred2)"
   ]
  },
  {
   "cell_type": "code",
   "execution_count": null,
   "metadata": {},
   "outputs": [],
   "source": []
  },
  {
   "cell_type": "code",
   "execution_count": null,
   "metadata": {},
   "outputs": [],
   "source": []
  },
  {
   "cell_type": "code",
   "execution_count": 61,
   "metadata": {},
   "outputs": [],
   "source": [
    "pred2 = knn.predict(test_norm)"
   ]
  },
  {
   "cell_type": "code",
   "execution_count": null,
   "metadata": {},
   "outputs": [],
   "source": [
    "pred10 = knn.predict(test_norm)"
   ]
  },
  {
   "cell_type": "code",
   "execution_count": 57,
   "metadata": {},
   "outputs": [
    {
     "data": {
      "text/plain": [
       "0.9713142857142857"
      ]
     },
     "execution_count": 57,
     "metadata": {},
     "output_type": "execute_result"
    }
   ],
   "source": [
    "accuracy_score(test_labels,pred10)"
   ]
  },
  {
   "cell_type": "code",
   "execution_count": 62,
   "metadata": {},
   "outputs": [
    {
     "data": {
      "text/plain": [
       "0.9713142857142857"
      ]
     },
     "execution_count": 62,
     "metadata": {},
     "output_type": "execute_result"
    }
   ],
   "source": [
    "accuracy_score(test_labels,pred2)"
   ]
  },
  {
   "cell_type": "code",
   "execution_count": null,
   "metadata": {},
   "outputs": [],
   "source": []
  },
  {
   "cell_type": "code",
   "execution_count": null,
   "metadata": {},
   "outputs": [],
   "source": []
  },
  {
   "cell_type": "code",
   "execution_count": null,
   "metadata": {},
   "outputs": [],
   "source": []
  },
  {
   "cell_type": "code",
   "execution_count": 5,
   "metadata": {},
   "outputs": [],
   "source": [
    "# 데이터 특성에따라서 머신러닝 방법 선택 ex) 영상의 경우 딥러닝이 필수\n",
    "# 머신러닝에서 가장 중요한것은 피쳐를 어떻게 잡는지가 중요\n",
    "# 딥러닝하기 위해서 가장 기본적인것 : 데이터가 많아야함\n",
    "# 딥러닝 : 비선형함수에 최적화 -> 사람이 이해하기 힘듬(해석불가)\n",
    "# 일반적으로 퍼블리싱 많이 되고 찍어내는것 -> 중국에서 많이 함\n",
    "# 피처(변수)는 x 관측치(샘플)는 n \n",
    "# 딥러닝 사용하는 이유 데이터가 많을수록 성능향상\n",
    "# 상업적인 측면 data 만들어서 파는애들이 돈많이 범\n",
    "# 주어진데이터에서 각기 계쑤가 어떻게 될지 파라미터를 찾는것이핵심\n",
    "# 해당모델 만들었으면 실제값과 오차를 제일 작게 해야함\n",
    "# 손실함수 : e = y-f(x)"
   ]
  },
  {
   "cell_type": "code",
   "execution_count": 6,
   "metadata": {},
   "outputs": [],
   "source": [
    "# 항상 피팅하는것이 선만 있는 것이아니라 다양하게 있을수있음\n",
    "# 다중선형 회귀모델(lse/최소자승법), 로지스틱 회귀분석(conjugate), 인공신경망(백 프로파게이션 알고리즘)\n",
    "# 분류모델 평가 (confusion matrix)\n",
    "# 그값이 어떠한 카데고리냐 얼마냐?\n",
    "# 최적의 파라미터 찾기\n",
    "# 크게 대상이 두개가 있을것임. 맞고 틀림, 파시티브, 네가티브\n",
    "# 나의 오엠알, 정답지\n",
    "# 맞은것 TRUE 틀린것 FALSE 이진분류 \n",
    "# 맞긴했는데 어떻게 맞았는지 구별 (True - Positive / True - Negative)\n",
    "# False - Positive, False - Negative => 틀린것\n",
    "# 정확도 4가지 영역에 대해서 맞춘 값이 얼마만큼 차지하고 있는지\n",
    "# 정확도가 만능이 아닌경우?\n",
    "# 스팸분류(T-P/F-P) => precision 스팸을 얼마나 잘 분류할것인지 -> (T-P.F-P를 높여야함) 트루에 대한 신뢰도가 높아야됨 정밀도\n",
    "# 암진단(T-P/F-N) => 암인데 암아니라고 하면 안됨(T-P,F-N을 높여야함) -> Recall (실제데이터중에 얼마나 잘 골라내느냐) 재현율 \n",
    "# 무엇을 중시하는냐에 따라서 다양한 측면을 고려해야한다. \n",
    "# f1 스코어 : 정밀도와 재현율의 평균\n",
    "\n",
    "# 내가 파지티브라고 했을때 진짜 파지티브가 맞을 확률 {프리시젼}\n",
    "# 실제 파지티브인것들을 내가 얼마나 잘 찾아낼것인지(리콜)\n",
    "# 두마리토끼 다잡는 : f1 score"
   ]
  },
  {
   "cell_type": "code",
   "execution_count": 7,
   "metadata": {},
   "outputs": [],
   "source": [
    "# ROC(수신자 조작 특성)\n",
    "# AUC(곡선하면적) 면적이 넓은 것이 좋은 성능/모델\n"
   ]
  },
  {
   "cell_type": "code",
   "execution_count": 8,
   "metadata": {},
   "outputs": [],
   "source": [
    "# BIased(실제값과 예측값이 얼마나 차이가 나는지) Variance(예측값들의 편차)\n",
    "# 두가지 파트 실제갖ㅄ과 예측값이 얼마나 차이가 나는지\n",
    "# 적당한 애들을 찾는것이 가장중요함\n",
    "# 언더퍼팅(변수가 너무 적음) / 오버피팅 (변수가 너무 많음)\n",
    "# 편향, 분산이 적당한 부분이 전체에러가 가장 적다."
   ]
  },
  {
   "cell_type": "code",
   "execution_count": 9,
   "metadata": {},
   "outputs": [],
   "source": [
    "# 데이터쪼개기\n",
    "# 데이터셋을 트레이닝과 테스트로 나누는게 가장 일반적이긴함\n",
    "# 트레이닝과 테스트 사이에 밸리데이션을 두기도함(중간점검)\n",
    "# 대략 5:3:2 비율로\n",
    "# 트레이닝 데이터 한번, 테스트 한번, "
   ]
  },
  {
   "cell_type": "code",
   "execution_count": null,
   "metadata": {},
   "outputs": [],
   "source": [
    "# K-fold cross validation \n",
    "# 오버피팅 해결 모형을 객관적으로 평가 \n",
    "# 시간이 오래걸림\n",
    "# 그렇게 나누게 되는데 문제는 모의고사 실전 모의고사 실전\n",
    "# O 가 90개 X 가 10개 \n",
    "# 모의고사에 x 가 하나도 없으면 -> set별로 비율들이 너무 치우칠수있음.\n",
    "# 데이터가 불균형한 경우\n",
    "# 나눠줄때 비율을 유지해서 나눠준다. (Stratified K-fold cross validation)\n",
    "# 차원축소(비지도 학습계열 pca)  : 차원이 늘어날수록 데이터가 많이 필요해짐\n",
    "# 몇개를 관찰했는지 개수를 확인\n",
    "# 차원이늘어날수록 성능이 떨어짐\n",
    "# K Nearest Neighbor"
   ]
  }
 ],
 "metadata": {
  "kernelspec": {
   "display_name": "Python 3",
   "language": "python",
   "name": "python3"
  },
  "language_info": {
   "codemirror_mode": {
    "name": "ipython",
    "version": 3
   },
   "file_extension": ".py",
   "mimetype": "text/x-python",
   "name": "python",
   "nbconvert_exporter": "python",
   "pygments_lexer": "ipython3",
   "version": "3.7.4"
  }
 },
 "nbformat": 4,
 "nbformat_minor": 2
}
